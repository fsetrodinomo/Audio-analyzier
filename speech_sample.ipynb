{
 "cells": [
  {
   "cell_type": "code",
<<<<<<< HEAD
<<<<<<< HEAD
   "execution_count": 20,
=======
   "execution_count": 1,
>>>>>>> 3eb39eccc8d84dabfa72d3ab38d416f7175249df
=======
   "execution_count": 1,
>>>>>>> main
   "id": "bf1222e5-d246-4be1-a95f-034db3876809",
   "metadata": {},
   "outputs": [],
   "source": [
    "import requests\n",
    "from IPython.display import JSON\n",
    "import pandas as pd\n",
    "import numpy as np\n",
    "import time\n",
    "\n",
    "\n",
    "#visualizaiton\n",
    "from wordcloud import wordcloud\n",
    "import plotly.express as px\n",
    "\n",
    "#dashboard\n",
    "import panel as pn\n"
<<<<<<< HEAD
<<<<<<< HEAD
=======
   ]
  },
  {
   "cell_type": "code",
   "execution_count": 6,
   "id": "7d9020bf-b77e-4e71-80a1-1e68f26a9bfb",
   "metadata": {},
   "outputs": [],
   "source": [
    "API_KEY = \"6b692ea399df4bb6ae95abf54600fff0\""
>>>>>>> 3eb39eccc8d84dabfa72d3ab38d416f7175249df
=======
>>>>>>> main
   ]
  },
  {
   "cell_type": "code",
<<<<<<< HEAD
<<<<<<< HEAD
   "execution_count": 32,
=======
   "execution_count": 6,
>>>>>>> main
   "id": "7d9020bf-b77e-4e71-80a1-1e68f26a9bfb",
   "metadata": {},
   "outputs": [],
   "source": [
    "API_KEY = \"6b692ea399df4bb6ae95abf54600fff0\""
   ]
  },
  {
   "cell_type": "code",
<<<<<<< HEAD
   "execution_count": 47,
=======
   "execution_count": 7,
>>>>>>> 3eb39eccc8d84dabfa72d3ab38d416f7175249df
=======
   "execution_count": 7,
>>>>>>> main
   "id": "b8262bc5-fec8-4dcf-ae45-f1440a3d1441",
   "metadata": {},
   "outputs": [
    {
     "name": "stdout",
     "output_type": "stream",
     "text": [
<<<<<<< HEAD
<<<<<<< HEAD
      "{'id': 'rz7wfygqwh-2f70-4636-a820-97639f1051a4', 'language_model': 'assemblyai_default', 'acoustic_model': 'assemblyai_default', 'language_code': 'en_us', 'status': 'queued', 'audio_url': 'https://www.youtube.com/watch?v=GPGdXrQID7c', 'text': None, 'words': None, 'utterances': None, 'confidence': None, 'audio_duration': None, 'punctuate': True, 'format_text': True, 'dual_channel': None, 'webhook_url': None, 'webhook_status_code': None, 'webhook_auth': False, 'webhook_auth_header_name': None, 'speed_boost': False, 'auto_highlights_result': None, 'auto_highlights': False, 'audio_start_from': None, 'audio_end_at': None, 'word_boost': [], 'boost_param': None, 'filter_profanity': False, 'redact_pii': False, 'redact_pii_audio': False, 'redact_pii_audio_quality': None, 'redact_pii_policies': None, 'redact_pii_sub': None, 'speaker_labels': False, 'content_safety': False, 'iab_categories': False, 'content_safety_labels': {}, 'iab_categories_result': {}, 'language_detection': False, 'custom_spelling': None, 'cluster_id': None, 'throttled': None, 'summarization': False, 'summary_type': None, 'disfluencies': False, 'sentiment_analysis': False, 'sentiment_analysis_results': None, 'auto_chapters': False, 'chapters': None, 'entity_detection': False, 'entities': None}\n"
=======
      "{'error': 'Authentication error, API token missing/invalid'}\n"
>>>>>>> 3eb39eccc8d84dabfa72d3ab38d416f7175249df
=======
      "{'error': 'Authentication error, API token missing/invalid'}\n"
>>>>>>> main
     ]
    }
   ],
   "source": [
    "import requests\n",
<<<<<<< HEAD
<<<<<<< HEAD
    "endpoint = \"https://api.assemblyai.com/v2/transcript\"\n",
    "json = {\n",
    "    \"audio_url\": \"https://www.youtube.com/watch?v=GPGdXrQID7c\"\n",
    "}\n",
=======
    "endpoint = \"https://api.assemblyai.com/v2/transcript/YOUR-TRANSCRIPT-ID-HERE\"\n",
>>>>>>> 3eb39eccc8d84dabfa72d3ab38d416f7175249df
    "headers = {\n",
    "    \"authorization\": \"YOUR-API-TOKEN\",\n",
    "}\n",
<<<<<<< HEAD
    "response = requests.post(endpoint, json=json, headers=headers)\n",
    "print(response.json())"
   ]
  },
  {
   "cell_type": "code",
   "execution_count": 48,
   "id": "21f7a235-2d14-4ef5-b09a-d69bdf86279b",
   "metadata": {},
   "outputs": [
    {
     "name": "stdout",
     "output_type": "stream",
     "text": [
      "{'id': 'rz7wfygqwh-2f70-4636-a820-97639f1051a4', 'language_model': 'assemblyai_default', 'acoustic_model': 'assemblyai_default', 'language_code': 'en_us', 'status': 'processing', 'audio_url': 'https://www.youtube.com/watch?v=GPGdXrQID7c', 'text': None, 'words': None, 'utterances': None, 'confidence': None, 'audio_duration': None, 'punctuate': True, 'format_text': True, 'dual_channel': None, 'webhook_url': None, 'webhook_status_code': None, 'webhook_auth': False, 'webhook_auth_header_name': None, 'speed_boost': False, 'auto_highlights_result': None, 'auto_highlights': False, 'audio_start_from': None, 'audio_end_at': None, 'word_boost': [], 'boost_param': None, 'filter_profanity': False, 'redact_pii': False, 'redact_pii_audio': False, 'redact_pii_audio_quality': None, 'redact_pii_policies': None, 'redact_pii_sub': None, 'speaker_labels': False, 'content_safety': False, 'iab_categories': False, 'content_safety_labels': {}, 'iab_categories_result': {}, 'language_detection': False, 'custom_spelling': None, 'cluster_id': None, 'throttled': None, 'summarization': False, 'summary_type': None, 'disfluencies': False, 'sentiment_analysis': False, 'auto_chapters': False, 'chapters': None, 'sentiment_analysis_results': None, 'entity_detection': False, 'entities': None, 'summary': None}\n"
     ]
    }
   ],
   "source": [
    "result_endpoint = endpoint + \"/\" + response.json() [\"id\"]\n",
    "headers_auth = {\n",
    "        \"authorization\" : API_KEY,\n",
    "}\n",
    "transcript_response = requests.get(result_endpoint, headers=headers_auth)\n",
    "print(transcript_response.json())\n"
   ]
  },
  {
   "cell_type": "code",
   "execution_count": 49,
   "id": "a1ae704c-1e8e-432b-96f3-9092354aecdf",
   "metadata": {},
   "outputs": [
    {
     "data": {
      "application/json": {
       "acoustic_model": "assemblyai_default",
       "audio_duration": null,
       "audio_end_at": null,
       "audio_start_from": null,
       "audio_url": "https://www.youtube.com/watch?v=GPGdXrQID7c",
       "auto_chapters": false,
       "auto_highlights": false,
       "auto_highlights_result": null,
       "boost_param": null,
       "chapters": null,
       "cluster_id": null,
       "confidence": null,
       "content_safety": false,
       "content_safety_labels": {},
       "custom_spelling": null,
       "disfluencies": false,
       "dual_channel": null,
       "entities": null,
       "entity_detection": false,
       "filter_profanity": false,
       "format_text": true,
       "iab_categories": false,
       "iab_categories_result": {},
       "id": "rz7wfygqwh-2f70-4636-a820-97639f1051a4",
       "language_code": "en_us",
       "language_detection": false,
       "language_model": "assemblyai_default",
       "punctuate": true,
       "redact_pii": false,
       "redact_pii_audio": false,
       "redact_pii_audio_quality": null,
       "redact_pii_policies": null,
       "redact_pii_sub": null,
       "sentiment_analysis": false,
       "sentiment_analysis_results": null,
       "speaker_labels": false,
       "speed_boost": false,
       "status": "processing",
       "summarization": false,
       "summary": null,
       "summary_type": null,
       "text": null,
       "throttled": null,
       "utterances": null,
       "webhook_auth": false,
       "webhook_auth_header_name": null,
       "webhook_status_code": null,
       "webhook_url": null,
       "word_boost": [],
       "words": null
      },
      "text/plain": [
       "<IPython.core.display.JSON object>"
      ]
     },
     "execution_count": 49,
     "metadata": {
      "application/json": {
       "expanded": false,
       "root": "root"
      }
     },
     "output_type": "execute_result"
    }
   ],
   "source": [
    "JSON(transcript_response.json())\n"
=======
    "response = requests.get(endpoint, headers=headers)\n",
    "print(response.json())"
>>>>>>> 3eb39eccc8d84dabfa72d3ab38d416f7175249df
=======
    "endpoint = \"https://api.assemblyai.com/v2/transcript/YOUR-TRANSCRIPT-ID-HERE\"\n",
    "headers = {\n",
    "    \"authorization\": \"YOUR-API-TOKEN\",\n",
    "}\n",
    "response = requests.get(endpoint, headers=headers)\n",
    "print(response.json())"
>>>>>>> main
   ]
  },
  {
   "cell_type": "code",
   "execution_count": null,
<<<<<<< HEAD
<<<<<<< HEAD
   "id": "016ffec2-eaf9-45c9-888c-980bd4082134",
   "metadata": {},
   "outputs": [],
   "source": []
  },
  {
   "cell_type": "code",
   "execution_count": null,
   "id": "74ad872e-674f-49fd-8cc2-1b3bfcdc8feb",
   "metadata": {},
   "outputs": [],
   "source": []
=======
=======
>>>>>>> main
   "id": "21f7a235-2d14-4ef5-b09a-d69bdf86279b",
   "metadata": {},
   "outputs": [],
   "source": []
>>>>>>> 3eb39eccc8d84dabfa72d3ab38d416f7175249df
  }
 ],
 "metadata": {
  "kernelspec": {
   "display_name": "Python 3 (ipykernel)",
   "language": "python",
   "name": "python3"
  },
  "language_info": {
   "codemirror_mode": {
    "name": "ipython",
    "version": 3
   },
   "file_extension": ".py",
   "mimetype": "text/x-python",
   "name": "python",
   "nbconvert_exporter": "python",
   "pygments_lexer": "ipython3",
   "version": "3.9.12"
  }
 },
 "nbformat": 4,
 "nbformat_minor": 5
}
