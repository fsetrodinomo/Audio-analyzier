{
 "cells": [
  {
   "cell_type": "code",
   "execution_count": 8,
   "id": "bf1222e5-d246-4be1-a95f-034db3876809",
   "metadata": {},
   "outputs": [],
   "source": [
    "import requests\n",
    "from IPython.display import JSON\n",
    "import pandas as pd\n",
    "import numpy as np\n",
    "import time\n",
    "\n",
    "\n",
    "#visualizaiton\n",
    "from wordcloud import WordCloud, STOPWORDS\n",
    "import plotly.express as px\n",
    "\n",
    "#dashboard\n",
    "import panel as pn\n",
    "pn.extension\n",
    "import param\n",
    "import hvplot.pandas\n",
    "\n",
    "#others\n",
    "import pickle\n",
    "from io import StringIO"
   ]
  },
  {
   "cell_type": "code",
   "execution_count": 6,
   "id": "7d9020bf-b77e-4e71-80a1-1e68f26a9bfb",
   "metadata": {},
   "outputs": [],
   "source": [
    "API_KEY = \"6b692ea399df4bb6ae95abf54600fff0\""
   ]
  },
  {
   "cell_type": "code",
   "execution_count": 7,
   "id": "b8262bc5-fec8-4dcf-ae45-f1440a3d1441",
   "metadata": {},
   "outputs": [
    {
     "name": "stdout",
     "output_type": "stream",
     "text": [
      "{'error': 'Authentication error, API token missing/invalid'}\n"
     ]
    }
   ],
   "source": [
    "import requests\n",
    "endpoint = \"https://api.assemblyai.com/v2/transcript/YOUR-TRANSCRIPT-ID-HERE\"\n",
    "headers = {\n",
    "    \"authorization\": \"YOUR-API-TOKEN\",\n",
    "}\n",
    "response = requests.get(endpoint, headers=headers)\n",
    "print(response.json())"
   ]
  },
  {
   "cell_type": "code",
   "execution_count": null,
   "id": "21f7a235-2d14-4ef5-b09a-d69bdf86279b",
   "metadata": {},
   "outputs": [],
   "source": []
  }
 ],
 "metadata": {
  "kernelspec": {
   "display_name": "Python 3 (ipykernel)",
   "language": "python",
   "name": "python3"
  },
  "language_info": {
   "codemirror_mode": {
    "name": "ipython",
    "version": 3
   },
   "file_extension": ".py",
   "mimetype": "text/x-python",
   "name": "python",
   "nbconvert_exporter": "python",
   "pygments_lexer": "ipython3",
   "version": "3.9.12"
  }
 },
 "nbformat": 4,
 "nbformat_minor": 5
}
