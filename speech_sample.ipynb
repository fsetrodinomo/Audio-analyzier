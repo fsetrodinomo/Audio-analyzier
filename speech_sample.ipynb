{
 "cells": [
  {
   "cell_type": "code",
   "execution_count": 40,
   "id": "bf1222e5-d246-4be1-a95f-034db3876809",
   "metadata": {},
   "outputs": [],
   "source": [
    "import requests\n",
    "from IPython.display import JSON\n",
    "import pandas as pd\n",
    "import numpy as np\n",
    "import time\n",
    "\n",
    "\n",
    "#visualizaiton\n",
    "from wordcloud import WordCloud, STOPWORDS\n",
    "import plotly.express as px\n",
    "\n",
    "#dashboard\n",
    "import panel as pn\n",
    "pn.extension\n",
    "import param\n",
    "import hvplot.pandas\n",
    "\n",
    "#others\n",
    "import pickle\n",
    "from io import StringIO"
   ]
  },
  {
   "cell_type": "code",
   "execution_count": 41,
   "id": "eb30f835-4f75-4322-b018-c7f272b3d7de",
   "metadata": {},
   "outputs": [],
   "source": [
    "from Lib.api_secret import API_KEY"
   ]
  },
  {
   "cell_type": "code",
   "execution_count": 46,
   "id": "b8262bc5-fec8-4dcf-ae45-f1440a3d1441",
   "metadata": {},
   "outputs": [
    {
     "name": "stdout",
     "output_type": "stream",
     "text": [
      "{'id': 'rrshdh14kh-975b-45ac-85cd-b684930c89f0', 'language_model': 'assemblyai_default', 'acoustic_model': 'assemblyai_default', 'language_code': 'en_us', 'status': 'queued', 'audio_url': 'https://github.com/fsetrodinomo/AudioAnalyzer/blob/main/Arctic%20Monkeys-Fluorescent%20Adolescent.mp3?raw=true', 'text': None, 'words': None, 'utterances': None, 'confidence': None, 'audio_duration': None, 'punctuate': True, 'format_text': True, 'dual_channel': None, 'webhook_url': None, 'webhook_status_code': None, 'webhook_auth': False, 'webhook_auth_header_name': None, 'speed_boost': False, 'auto_highlights_result': None, 'auto_highlights': True, 'audio_start_from': None, 'audio_end_at': None, 'word_boost': [], 'boost_param': None, 'filter_profanity': False, 'redact_pii': False, 'redact_pii_audio': False, 'redact_pii_audio_quality': None, 'redact_pii_policies': None, 'redact_pii_sub': None, 'speaker_labels': False, 'content_safety': False, 'iab_categories': True, 'content_safety_labels': {}, 'iab_categories_result': {}, 'language_detection': False, 'custom_spelling': None, 'cluster_id': None, 'throttled': None, 'disfluencies': False, 'sentiment_analysis': True, 'sentiment_analysis_results': None, 'auto_chapters': True, 'chapters': None, 'entity_detection': False, 'entities': None}\n"
     ]
    }
   ],
   "source": [
    "import requests\n",
    "endpoint = \"https://api.assemblyai.com/v2/transcript\"\n",
    "json = {\n",
    "    \"audio_url\": \"https://github.com/fsetrodinomo/AudioAnalyzer/blob/main/Arctic%20Monkeys-Fluorescent%20Adolescent.mp3?raw=true\",\n",
    "    \"iab_categories\": True,\n",
    "    \"auto_highlights\": True,\n",
    "    \"sentiment_analysis\": True,\n",
    "    \"auto_chapters\": True\n",
    "}\n",
    "headers = {\n",
    "    \"authorization\": API_KEY,\n",
    "    \"content-type\": \"application/json\"\n",
    "}\n",
    "response = requests.post(endpoint, json=json, headers=headers)\n",
    "print(response.json())\n",
    "\n",
    "#While loop for requesting transcription\n",
    "while response.json() ['status'] != \"completed\":\n",
    "    response = requests.get(result_endpoint, headers=headers_auth)\n",
    "    time.sleep(3)"
   ]
  },
  {
   "cell_type": "code",
   "execution_count": 47,
   "id": "a9f6953d-d79b-4327-b8de-a44b4a36fc67",
   "metadata": {},
   "outputs": [
    {
     "name": "stdout",
     "output_type": "stream",
     "text": [
      "{'id': 'rrsh007y0p-33f1-413b-b1e6-22580229dd52', 'language_model': 'assemblyai_default', 'acoustic_model': 'assemblyai_default', 'language_code': 'en_us', 'status': 'completed', 'audio_url': 'https://github.com/fsetrodinomo/AudioAnalyzer/blob/main/Arctic%20Monkeys-Fluorescent%20Adolescent.mp3?raw=true', 'text': 'The best you ever had is just a memory and my love when you dream flicking through a little bucket.', 'words': [{'text': 'The', 'start': 44390, 'end': 44554, 'confidence': 0.94, 'speaker': None}, {'text': 'best', 'start': 44592, 'end': 44866, 'confidence': 0.99663, 'speaker': None}, {'text': 'you', 'start': 44928, 'end': 45154, 'confidence': 0.99, 'speaker': None}, {'text': 'ever', 'start': 45192, 'end': 45538, 'confidence': 0.98001, 'speaker': None}, {'text': 'had', 'start': 45624, 'end': 46090, 'confidence': 0.84259, 'speaker': None}, {'text': 'is', 'start': 46200, 'end': 46618, 'confidence': 0.96, 'speaker': None}, {'text': 'just', 'start': 46704, 'end': 47170, 'confidence': 0.98906, 'speaker': None}, {'text': 'a', 'start': 47280, 'end': 47662, 'confidence': 0.62, 'speaker': None}, {'text': 'memory', 'start': 47736, 'end': 48566, 'confidence': 0.52888, 'speaker': None}, {'text': 'and', 'start': 48758, 'end': 49500, 'confidence': 0.39, 'speaker': None}, {'text': 'my', 'start': 54850, 'end': 55250, 'confidence': 0.50501, 'speaker': None}, {'text': 'love', 'start': 55300, 'end': 55694, 'confidence': 0.52022, 'speaker': None}, {'text': 'when', 'start': 55792, 'end': 56054, 'confidence': 0.98857, 'speaker': None}, {'text': 'you', 'start': 56092, 'end': 56294, 'confidence': 0.99, 'speaker': None}, {'text': 'dream', 'start': 56332, 'end': 57110, 'confidence': 0.44803, 'speaker': None}, {'text': 'flicking', 'start': 59290, 'end': 59802, 'confidence': 0.42866, 'speaker': None}, {'text': 'through', 'start': 59826, 'end': 59942, 'confidence': 0.86348, 'speaker': None}, {'text': 'a', 'start': 59956, 'end': 60062, 'confidence': 0.63, 'speaker': None}, {'text': 'little', 'start': 60076, 'end': 60254, 'confidence': 0.93493, 'speaker': None}, {'text': 'bucket.', 'start': 60292, 'end': 60510, 'confidence': 0.04653, 'speaker': None}], 'utterances': None, 'confidence': 0.72963, 'audio_duration': 195, 'punctuate': True, 'format_text': True, 'dual_channel': None, 'webhook_url': None, 'webhook_status_code': None, 'webhook_auth': False, 'webhook_auth_header_name': None, 'speed_boost': False, 'auto_highlights_result': {'status': 'success', 'results': [{'count': 1, 'rank': 0.14, 'text': 'little bucket', 'timestamps': [{'start': 60076, 'end': 60510}]}, {'count': 1, 'rank': 0.11, 'text': 'love', 'timestamps': [{'start': 55300, 'end': 55694}]}, {'count': 1, 'rank': 0.06, 'text': 'memory', 'timestamps': [{'start': 47736, 'end': 48566}]}]}, 'auto_highlights': True, 'audio_start_from': None, 'audio_end_at': None, 'word_boost': [], 'boost_param': None, 'filter_profanity': False, 'redact_pii': False, 'redact_pii_audio': False, 'redact_pii_audio_quality': None, 'redact_pii_policies': None, 'redact_pii_sub': None, 'speaker_labels': False, 'content_safety': False, 'iab_categories': True, 'content_safety_labels': {'status': 'unavailable', 'results': [], 'summary': {}}, 'iab_categories_result': {'status': 'success', 'results': [{'text': 'The best you ever had is just a memory and my love when you dream flicking through a little bucket.', 'labels': [{'relevance': 0.28834661841392517, 'label': 'FamilyAndRelationships>Bereavement'}, {'relevance': 0.010609864257276058, 'label': 'PopCulture>CelebrityDeaths'}, {'relevance': 0.005033949855715036, 'label': 'Style&Fashion>Beauty'}, {'relevance': 0.004515109583735466, 'label': 'FamilyAndRelationships>Parenting'}, {'relevance': 0.002904285676777363, 'label': 'Hobbies&Interests>Collecting>StampsAndCoins'}, {'relevance': 0.002566463779658079, 'label': 'BooksAndLiterature>Poetry'}, {'relevance': 0.0024503900203853846, 'label': 'EventsAndAttractions>PersonalCelebrations&LifeEvents>Birthday'}, {'relevance': 0.0023306335788220167, 'label': 'EventsAndAttractions>PersonalCelebrations&LifeEvents>Funeral'}, {'relevance': 0.002103331731632352, 'label': 'Movies>RomanceMovies'}, {'relevance': 0.0018929715733975172, 'label': 'FamilyAndRelationships>Parenting>AdoptionAndFostering'}], 'timestamp': {'start': 44390, 'end': 60510}}], 'summary': {'FamilyAndRelationships>Bereavement': 1.0, 'PopCulture>CelebrityDeaths': 0.03679552301764488, 'Style&Fashion>Beauty': 0.017457980662584305, 'FamilyAndRelationships>Parenting': 0.01565861888229847, 'Hobbies&Interests>Collecting>StampsAndCoins': 0.010072203353047371, 'BooksAndLiterature>Poetry': 0.00890062004327774, 'EventsAndAttractions>PersonalCelebrations&LifeEvents>Birthday': 0.008498070761561394, 'EventsAndAttractions>PersonalCelebrations&LifeEvents>Funeral': 0.008082750253379345, 'Movies>RomanceMovies': 0.007294456008821726, 'FamilyAndRelationships>Parenting>AdoptionAndFostering': 0.006564917042851448, 'FamilyAndRelationships>SingleLife': 0.0063954307697713375, 'FamilyAndRelationships': 0.005791962146759033, 'PopCulture>CelebrityPregnancy': 0.005410864017903805, 'BooksAndLiterature>ArtAndPhotographyBooks': 0.005232762545347214, 'Hobbies&Interests>ArtsAndCrafts>Photography': 0.004965190310031176, 'FamilyAndRelationships>Parenting>ParentingChildrenAged4-11': 0.004778948612511158, 'Style&Fashion>BodyArt': 0.004640251863747835, 'Shopping>GiftsAndGreetingsCards': 0.003981125075370073, 'NewsAndPolitics>Disasters': 0.003801232436671853, 'MedicalHealth>DiseasesAndConditions>Cancer': 0.003491825656965375}}, 'language_detection': False, 'custom_spelling': None, 'cluster_id': None, 'throttled': None, 'disfluencies': False, 'sentiment_analysis': True, 'auto_chapters': True, 'chapters': [{'summary': 'The best you ever had is just a memory.', 'headline': 'The best you ever had is just a memory.', 'gist': 'The best you ever had is just a memory.', 'start': 44390, 'end': 60510}], 'sentiment_analysis_results': [{'text': 'The best you ever had is just a memory and my love when you dream flicking through a little bucket.', 'start': 44390, 'end': 60510, 'sentiment': 'POSITIVE', 'confidence': 0.7173441648483276, 'speaker': None}], 'entity_detection': False, 'entities': None}\n"
     ]
    }
   ],
   "source": [
    "result_endpoint = endpoint + \"/\" + response.json() [\"id\"]\n",
    "headers_auth = {\n",
    "        \"authorization\" : API_KEY\n",
    "}\n",
    "transcript_response = requests.get(result_endpoint, headers=headers_auth)\n",
    "print(transcript_response.json())"
   ]
  },
  {
   "cell_type": "code",
   "execution_count": 48,
   "id": "73fec95c-8453-443b-9df8-b06687b72afc",
   "metadata": {},
   "outputs": [
    {
     "data": {
      "application/json": {
       "acoustic_model": "assemblyai_default",
       "audio_duration": 195,
       "audio_end_at": null,
       "audio_start_from": null,
       "audio_url": "https://github.com/fsetrodinomo/AudioAnalyzer/blob/main/Arctic%20Monkeys-Fluorescent%20Adolescent.mp3?raw=true",
       "auto_chapters": true,
       "auto_highlights": true,
       "auto_highlights_result": {
        "results": [
         {
          "count": 1,
          "rank": 0.14,
          "text": "little bucket",
          "timestamps": [
           {
            "end": 60510,
            "start": 60076
           }
          ]
         },
         {
          "count": 1,
          "rank": 0.11,
          "text": "love",
          "timestamps": [
           {
            "end": 55694,
            "start": 55300
           }
          ]
         },
         {
          "count": 1,
          "rank": 0.06,
          "text": "memory",
          "timestamps": [
           {
            "end": 48566,
            "start": 47736
           }
          ]
         }
        ],
        "status": "success"
       },
       "boost_param": null,
       "chapters": [
        {
         "end": 60510,
         "gist": "The best you ever had is just a memory.",
         "headline": "The best you ever had is just a memory.",
         "start": 44390,
         "summary": "The best you ever had is just a memory."
        }
       ],
       "cluster_id": null,
       "confidence": 0.72963,
       "content_safety": false,
       "content_safety_labels": {
        "results": [],
        "status": "unavailable",
        "summary": {}
       },
       "custom_spelling": null,
       "disfluencies": false,
       "dual_channel": null,
       "entities": null,
       "entity_detection": false,
       "filter_profanity": false,
       "format_text": true,
       "iab_categories": true,
       "iab_categories_result": {
        "results": [
         {
          "labels": [
           {
            "label": "FamilyAndRelationships>Bereavement",
            "relevance": 0.28834661841392517
           },
           {
            "label": "PopCulture>CelebrityDeaths",
            "relevance": 0.010609864257276058
           },
           {
            "label": "Style&Fashion>Beauty",
            "relevance": 0.005033949855715036
           },
           {
            "label": "FamilyAndRelationships>Parenting",
            "relevance": 0.004515109583735466
           },
           {
            "label": "Hobbies&Interests>Collecting>StampsAndCoins",
            "relevance": 0.002904285676777363
           },
           {
            "label": "BooksAndLiterature>Poetry",
            "relevance": 0.002566463779658079
           },
           {
            "label": "EventsAndAttractions>PersonalCelebrations&LifeEvents>Birthday",
            "relevance": 0.0024503900203853846
           },
           {
            "label": "EventsAndAttractions>PersonalCelebrations&LifeEvents>Funeral",
            "relevance": 0.0023306335788220167
           },
           {
            "label": "Movies>RomanceMovies",
            "relevance": 0.002103331731632352
           },
           {
            "label": "FamilyAndRelationships>Parenting>AdoptionAndFostering",
            "relevance": 0.0018929715733975172
           }
          ],
          "text": "The best you ever had is just a memory and my love when you dream flicking through a little bucket.",
          "timestamp": {
           "end": 60510,
           "start": 44390
          }
         }
        ],
        "status": "success",
        "summary": {
         "BooksAndLiterature>ArtAndPhotographyBooks": 0.005232762545347214,
         "BooksAndLiterature>Poetry": 0.00890062004327774,
         "EventsAndAttractions>PersonalCelebrations&LifeEvents>Birthday": 0.008498070761561394,
         "EventsAndAttractions>PersonalCelebrations&LifeEvents>Funeral": 0.008082750253379345,
         "FamilyAndRelationships": 0.005791962146759033,
         "FamilyAndRelationships>Bereavement": 1,
         "FamilyAndRelationships>Parenting": 0.01565861888229847,
         "FamilyAndRelationships>Parenting>AdoptionAndFostering": 0.006564917042851448,
         "FamilyAndRelationships>Parenting>ParentingChildrenAged4-11": 0.004778948612511158,
         "FamilyAndRelationships>SingleLife": 0.0063954307697713375,
         "Hobbies&Interests>ArtsAndCrafts>Photography": 0.004965190310031176,
         "Hobbies&Interests>Collecting>StampsAndCoins": 0.010072203353047371,
         "MedicalHealth>DiseasesAndConditions>Cancer": 0.003491825656965375,
         "Movies>RomanceMovies": 0.007294456008821726,
         "NewsAndPolitics>Disasters": 0.003801232436671853,
         "PopCulture>CelebrityDeaths": 0.03679552301764488,
         "PopCulture>CelebrityPregnancy": 0.005410864017903805,
         "Shopping>GiftsAndGreetingsCards": 0.003981125075370073,
         "Style&Fashion>Beauty": 0.017457980662584305,
         "Style&Fashion>BodyArt": 0.004640251863747835
        }
       },
       "id": "rrsh007y0p-33f1-413b-b1e6-22580229dd52",
       "language_code": "en_us",
       "language_detection": false,
       "language_model": "assemblyai_default",
       "punctuate": true,
       "redact_pii": false,
       "redact_pii_audio": false,
       "redact_pii_audio_quality": null,
       "redact_pii_policies": null,
       "redact_pii_sub": null,
       "sentiment_analysis": true,
       "sentiment_analysis_results": [
        {
         "confidence": 0.7173441648483276,
         "end": 60510,
         "sentiment": "POSITIVE",
         "speaker": null,
         "start": 44390,
         "text": "The best you ever had is just a memory and my love when you dream flicking through a little bucket."
        }
       ],
       "speaker_labels": false,
       "speed_boost": false,
       "status": "completed",
       "text": "The best you ever had is just a memory and my love when you dream flicking through a little bucket.",
       "throttled": null,
       "utterances": null,
       "webhook_auth": false,
       "webhook_auth_header_name": null,
       "webhook_status_code": null,
       "webhook_url": null,
       "word_boost": [],
       "words": [
        {
         "confidence": 0.94,
         "end": 44554,
         "speaker": null,
         "start": 44390,
         "text": "The"
        },
        {
         "confidence": 0.99663,
         "end": 44866,
         "speaker": null,
         "start": 44592,
         "text": "best"
        },
        {
         "confidence": 0.99,
         "end": 45154,
         "speaker": null,
         "start": 44928,
         "text": "you"
        },
        {
         "confidence": 0.98001,
         "end": 45538,
         "speaker": null,
         "start": 45192,
         "text": "ever"
        },
        {
         "confidence": 0.84259,
         "end": 46090,
         "speaker": null,
         "start": 45624,
         "text": "had"
        },
        {
         "confidence": 0.96,
         "end": 46618,
         "speaker": null,
         "start": 46200,
         "text": "is"
        },
        {
         "confidence": 0.98906,
         "end": 47170,
         "speaker": null,
         "start": 46704,
         "text": "just"
        },
        {
         "confidence": 0.62,
         "end": 47662,
         "speaker": null,
         "start": 47280,
         "text": "a"
        },
        {
         "confidence": 0.52888,
         "end": 48566,
         "speaker": null,
         "start": 47736,
         "text": "memory"
        },
        {
         "confidence": 0.39,
         "end": 49500,
         "speaker": null,
         "start": 48758,
         "text": "and"
        },
        {
         "confidence": 0.50501,
         "end": 55250,
         "speaker": null,
         "start": 54850,
         "text": "my"
        },
        {
         "confidence": 0.52022,
         "end": 55694,
         "speaker": null,
         "start": 55300,
         "text": "love"
        },
        {
         "confidence": 0.98857,
         "end": 56054,
         "speaker": null,
         "start": 55792,
         "text": "when"
        },
        {
         "confidence": 0.99,
         "end": 56294,
         "speaker": null,
         "start": 56092,
         "text": "you"
        },
        {
         "confidence": 0.44803,
         "end": 57110,
         "speaker": null,
         "start": 56332,
         "text": "dream"
        },
        {
         "confidence": 0.42866,
         "end": 59802,
         "speaker": null,
         "start": 59290,
         "text": "flicking"
        },
        {
         "confidence": 0.86348,
         "end": 59942,
         "speaker": null,
         "start": 59826,
         "text": "through"
        },
        {
         "confidence": 0.63,
         "end": 60062,
         "speaker": null,
         "start": 59956,
         "text": "a"
        },
        {
         "confidence": 0.93493,
         "end": 60254,
         "speaker": null,
         "start": 60076,
         "text": "little"
        },
        {
         "confidence": 0.04653,
         "end": 60510,
         "speaker": null,
         "start": 60292,
         "text": "bucket."
        }
       ]
      },
      "text/plain": [
       "<IPython.core.display.JSON object>"
      ]
     },
     "execution_count": 48,
     "metadata": {
      "application/json": {
       "expanded": false,
       "root": "root"
      }
     },
     "output_type": "execute_result"
    }
   ],
   "source": [
    "JSON(transcript_response.json())"
   ]
  },
  {
   "cell_type": "code",
   "execution_count": null,
   "id": "1259cf61-4001-4ffe-b64a-b32f2bebfccc",
   "metadata": {},
   "outputs": [],
   "source": []
  }
 ],
 "metadata": {
  "kernelspec": {
   "display_name": "Python 3 (ipykernel)",
   "language": "python",
   "name": "python3"
  },
  "language_info": {
   "codemirror_mode": {
    "name": "ipython",
    "version": 3
   },
   "file_extension": ".py",
   "mimetype": "text/x-python",
   "name": "python",
   "nbconvert_exporter": "python",
   "pygments_lexer": "ipython3",
   "version": "3.9.12"
  }
 },
 "nbformat": 4,
 "nbformat_minor": 5
}
