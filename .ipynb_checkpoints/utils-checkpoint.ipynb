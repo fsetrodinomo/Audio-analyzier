{
 "cells": [
  {
   "cell_type": "code",
   "execution_count": 2,
   "id": "aff25483-4968-4b5b-a599-3361fcf74a52",
   "metadata": {},
   "outputs": [],
   "source": [
    "import requests\n",
    "import time"
   ]
  },
  {
   "cell_type": "code",
   "execution_count": null,
   "id": "2ecd768a-975e-4c8f-ab97-6b2183e80754",
   "metadata": {},
   "outputs": [],
   "source": [
    "upload_endpoint = \"https://api.assemblyai.com/v2/upload\"\n",
    "transcript_endpoint = \"https://api.assemblyai.com/v2/transcript\""
   ]
  },
  {
   "cell_type": "code",
   "execution_count": 4,
   "id": "9cab1dc8-5195-431b-ad6f-3e46b4a003c4",
   "metadata": {},
   "outputs": [
    {
     "ename": "SyntaxError",
     "evalue": "invalid syntax (1721163195.py, line 3)",
     "output_type": "error",
     "traceback": [
      "\u001b[1;36m  Input \u001b[1;32mIn [4]\u001b[1;36m\u001b[0m\n\u001b[1;33m    with open (filename, \"rb\") as f\u001b[0m\n\u001b[1;37m                                   ^\u001b[0m\n\u001b[1;31mSyntaxError\u001b[0m\u001b[1;31m:\u001b[0m invalid syntax\n"
     ]
    }
   ],
   "source": [
    "#Helper function to upload file\n",
    "def _read_filename(filename, chunk_size=5242880):\n",
    "    with open (filename, \"rb\") as f:\n",
    "    while True:\n",
    "        data = f.read (chunk_size)\n",
    "        if not data:\n",
    "            break\n",
    "            yield data\n",
    "        "
   ]
  },
  {
   "cell_type": "code",
   "execution_count": null,
   "id": "826ec4e1-3857-4947-b80b-d9fd1bbe199d",
   "metadata": {},
   "outputs": [],
   "source": []
  }
 ],
 "metadata": {
  "kernelspec": {
   "display_name": "Python 3 (ipykernel)",
   "language": "python",
   "name": "python3"
  },
  "language_info": {
   "codemirror_mode": {
    "name": "ipython",
    "version": 3
   },
   "file_extension": ".py",
   "mimetype": "text/x-python",
   "name": "python",
   "nbconvert_exporter": "python",
   "pygments_lexer": "ipython3",
   "version": "3.9.12"
  }
 },
 "nbformat": 4,
 "nbformat_minor": 5
}
