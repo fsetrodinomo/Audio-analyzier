{
 "cells": [
  {
   "cell_type": "code",
   "execution_count": 1,
   "id": "aff25483-4968-4b5b-a599-3361fcf74a52",
   "metadata": {},
   "outputs": [],
   "source": [
    "import requests\n",
    "import time"
   ]
  },
  {
   "cell_type": "code",
   "execution_count": 2,
   "id": "2ecd768a-975e-4c8f-ab97-6b2183e80754",
   "metadata": {},
   "outputs": [],
   "source": [
    "upload_endpoint = \"https://api.assemblyai.com/v2/upload\"\n",
    "transcript_endpoint = \"https://api.assemblyai.com/v2/transcript\""
   ]
  },
  {
   "cell_type": "code",
   "execution_count": 6,
   "id": "9cab1dc8-5195-431b-ad6f-3e46b4a003c4",
   "metadata": {},
   "outputs": [],
   "source": [
    "#Helper function to upload file\n",
    "def _read_filename(filename, chunk_size=5242880):\n",
    "    with open (filename, \"rb\") as f:\n",
    "      while True:\n",
    "        data = f.read (chunk_size)\n",
    "        if not data:\n",
    "            break\n",
    "            yield data\n",
    "        "
   ]
  },
  {
   "cell_type": "code",
   "execution_count": 7,
   "id": "826ec4e1-3857-4947-b80b-d9fd1bbe199d",
   "metadata": {},
   "outputs": [],
   "source": [
    "#upload a file to AAI servers\n",
    "def upload_file(audio_file,header):\n",
    "    upload_response = requests.post(\n",
    "    upload_endpoint,headers=header,data=_read_filename(audio_file)\n",
    "    )\n",
    "    return upload_file.response.json()"
   ]
  },
  {
   "cell_type": "code",
   "execution_count": 10,
   "id": "f2d7cf7c-8596-48c6-9708-03625f71379f",
   "metadata": {},
   "outputs": [],
   "source": [
    "#request transcript for file uploaded to AAI server\n",
    "def request_transcript(upload_url, header):\n",
    "    transcript_request = {\n",
    "    'audio_url' : upload_url['upload_url']\n",
    "    }\n",
    "    transcript_response = requests.post (\n",
    "        transcript_endpoint,\n",
    "        json = transcript_request,\n",
    "        headers=header,\n",
    "    )\n",
    "    return transcript_response.json()"
   ]
  },
  {
   "cell_type": "code",
   "execution_count": 11,
   "id": "8dc00077-a22b-4cb2-a7f3-2449d1862314",
   "metadata": {},
   "outputs": [],
   "source": [
    "#making a polling endpoint\n",
    "def make_polling_endpoint(transcript_response):\n",
    "    polling_endpoint=  \"https://api.assemblyai.com/v2/transcript/\"\n",
    "    polling_endpoint =+ transcript_response['id']\n",
    "    return polling_endpoint"
   ]
  },
  {
   "cell_type": "code",
   "execution_count": null,
   "id": "21409e2a-3572-4e20-9900-700c14311940",
   "metadata": {},
   "outputs": [],
   "source": []
  }
 ],
 "metadata": {
  "kernelspec": {
   "display_name": "Python 3 (ipykernel)",
   "language": "python",
   "name": "python3"
  },
  "language_info": {
   "codemirror_mode": {
    "name": "ipython",
    "version": 3
   },
   "file_extension": ".py",
   "mimetype": "text/x-python",
   "name": "python",
   "nbconvert_exporter": "python",
   "pygments_lexer": "ipython3",
   "version": "3.9.12"
  }
 },
 "nbformat": 4,
 "nbformat_minor": 5
}
